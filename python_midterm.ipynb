{
  "nbformat": 4,
  "nbformat_minor": 0,
  "metadata": {
    "colab": {
      "name": "python-midterm.ipynb",
      "provenance": [],
      "collapsed_sections": [],
      "authorship_tag": "ABX9TyNASxlj+E/U/xONP9ENhxaj",
      "include_colab_link": true
    },
    "kernelspec": {
      "name": "python3",
      "display_name": "Python 3"
    },
    "language_info": {
      "name": "python"
    }
  },
  "cells": [
    {
      "cell_type": "markdown",
      "metadata": {
        "id": "view-in-github",
        "colab_type": "text"
      },
      "source": [
        "<a href=\"https://colab.research.google.com/github/ykkim77/python-midterm/blob/main/python_midterm.ipynb\" target=\"_parent\"><img src=\"https://colab.research.google.com/assets/colab-badge.svg\" alt=\"Open In Colab\"/></a>"
      ]
    },
    {
      "cell_type": "markdown",
      "metadata": {
        "id": "Fb7V1622OPsY"
      },
      "source": [
        "# 파이썬 프로그래밍 계절학기 중간고사"
      ]
    },
    {
      "cell_type": "markdown",
      "metadata": {
        "id": "OtG7xx1d_S9S"
      },
      "source": [
        "중간 고사 유의 사항\n",
        "\n",
        "1. 문제의 답안을 반드시 답안 작성 셀에 작성할것\n",
        "1. 코드 작성이 끝난 파일은 개별적으로 수행해서 이상이 없는지를 확인할 것\n",
        "1. 자신이 코드를 수행한 결과 셀을 삭제하지 말고, 그대로 제출할 것\n",
        "1. 작성된 답안은 상단 메뉴의 파일--> 다운로드 --> .ipynb 로 다운 받아 학교 LMS 에 제출할 것\n",
        "1. .ipynb 파일이 학교 LMS 에 올라가지 않을경우 ZIP으로 압축하여 업로드 가능\n",
        "1. 파일의 이름은 자신의 학번.ipynb      예) 학번이 2021111000 일 경우,     2021111000.ipynb 파일을 제출\n",
        "1. 코드는 자동 채점이 되며, 코드의 유사도 검증을 통해 코드가 타 학생과 유사도가 높을 경우 감점 (절대로 문제의 답안을 타 학생과 공유 금지)\n",
        "1. 코드를 완벽하게 구현하여 점수 획득 가능"
      ]
    },
    {
      "cell_type": "markdown",
      "metadata": {
        "id": "PpyyAuTSRVry"
      },
      "source": [
        "**답안 작성 예시**"
      ]
    },
    {
      "cell_type": "markdown",
      "metadata": {
        "id": "LrWbD_0zTODP"
      },
      "source": [
        "\n",
        "\n",
        "다음 리스트의 합을 출력하는 코드를 작성하시오.<br>\n",
        "\n",
        "```\n",
        "nums = [1, 2, 3, 4, 5]\n",
        "```\n",
        "\n"
      ]
    },
    {
      "cell_type": "code",
      "metadata": {
        "colab": {
          "base_uri": "https://localhost:8080/"
        },
        "id": "5BVGhzpB0EA1",
        "outputId": "5c1ee6bf-50ae-4b9b-9843-0f537d1d7ade"
      },
      "source": [
        "## 답안 작성 \n",
        "\n",
        "nums = [1,2,3,4,5]\n",
        "print(sum(nums))"
      ],
      "execution_count": null,
      "outputs": [
        {
          "output_type": "stream",
          "text": [
            "15\n"
          ],
          "name": "stdout"
        }
      ]
    },
    {
      "cell_type": "markdown",
      "metadata": {
        "id": "Pm1u6ctV0X_s"
      },
      "source": [
        "# 문제 1 (7점)"
      ]
    },
    {
      "cell_type": "markdown",
      "metadata": {
        "id": "pRnkMIXF0brk"
      },
      "source": [
        "1부터 100까지의 정수 중 짝수만 저장된 리스트를 생성하라. (일일이 데이터를 입력하여 리스트를 생성하는 것은 불가, )"
      ] 안녕하세요
    },
    {
      "cell_type": "code",
      "metadata": {
        "id": "mMf2XGcG0R_b"
      },
      "source": [
        "## 1번 문제 답안 작성"
      ],
      "execution_count": null,
      "outputs": []
    },
    {
      "cell_type": "markdown",
      "metadata": {
        "id": "ORvepwSF0qtq"
      },
      "source": [
        "# 문제 2 (7점)"
      ]
    },
    {
      "cell_type": "markdown",
      "metadata": {
        "id": "86rp5nnu02pM"
      },
      "source": [
        "1부터 50까지의 숫자 중 5의 배수를 출력하는 코드를 작성하시오. (힌트: for 문을 활용할 것, 출력시 print()를 사용할 것)"
      ]
    },
    {
      "cell_type": "code",
      "metadata": {
        "id": "9GdNJN120wRC"
      },
      "source": [
        "## 2번 문제 답안 작성"
      ],
      "execution_count": null,
      "outputs": []
    },
    {
      "cell_type": "markdown",
      "metadata": {
        "id": "Jgd_VXNo3yQh"
      },
      "source": [
        "# 문제 3 (5점)"
      ]
    },
    {
      "cell_type": "markdown",
      "metadata": {
        "id": "zISnWhEM3ze2"
      },
      "source": [
        "다음 변수 선언이 적절한 지를 판단하고, 적절하지 않다면 왜 적절하지 않은지 이유를 서술하시오.\n",
        "\n",
        "    1st_number = 100"
      ]
    },
    {
      "cell_type": "markdown",
      "metadata": {
        "id": "h5aL6Yon33WG"
      },
      "source": [
        "3번 문제 답안 작성\n",
        "\n",
        "\n",
        "\n",
        "\n",
        "```\n",
        "# 답안 작성란\n",
        "```\n",
        "\n",
        "\n",
        "\n",
        "\n",
        "\n",
        "\n"
      ]
    },
    {
      "cell_type": "markdown",
      "metadata": {
        "id": "e-Mufidk4GZN"
      },
      "source": [
        "# 문제 4 (8점)"
      ]
    },
    {
      "cell_type": "markdown",
      "metadata": {
        "id": "TLuSPp0y4Iuu"
      },
      "source": [
        "아래와 같이 리스트의 데이터를 출력하는 코드를 작성하시오. ( 힌트: for 문을 사용할것, 출력은 print()를 사용할것)\n",
        "\n",
        "\n",
        "\n",
        "```\n",
        "price_list = [32100, 32150, 32000, 32500]\n",
        "```\n",
        "\n",
        "\n",
        "\n",
        "```\n",
        "0 32100\n",
        "1 32150\n",
        "2 32000\n",
        "3 32500\n",
        "```\n",
        "\n",
        "\n",
        "\n"
      ]
    },
    {
      "cell_type": "code",
      "metadata": {
        "id": "u2HbUYlb4bcd"
      },
      "source": [
        "# 4번 답안 작성"
      ],
      "execution_count": null,
      "outputs": []
    },
    {
      "cell_type": "markdown",
      "metadata": {
        "id": "ykpiJJWg4qcX"
      },
      "source": [
        "# 문제 5번 (5점)"
      ]
    },
    {
      "cell_type": "markdown",
      "metadata": {
        "id": "nwEXv_NH4r4i"
      },
      "source": [
        "아래 문서를 저장한다고 가정했을때, 어떠한 데이터 타입에 저장하는 것이 효율 적인지를 판단하고, 데이터 타입에 맞게 다음 자료들을 저장하는 코드를 기술하시오..\n",
        "\n",
        "\n",
        "\n",
        "```\n",
        "메로나 - 1000\n",
        "폴로포 - 1200\n",
        "빵빠레 - 1800\n",
        "죠스바 - 1200\n",
        "월드콘 - 1500\n",
        "```\n",
        "\n",
        "\n",
        "\n"
      ]
    },
    {
      "cell_type": "markdown",
      "metadata": {
        "id": "AWseMHsi5Sga"
      },
      "source": [
        "# 문제 6번 (9점)"
      ]
    },
    {
      "cell_type": "markdown",
      "metadata": {
        "id": "4umOWG0M7rcA"
      },
      "source": [
        "아래와 같이 회사 이름이 콤마(,)로 구분되어 하나의 문자열로 저장되어 있다.\n",
        "다음 문자열 데이터를 저장하고, 이 문자열을 조작하여 이를 company 라는 이름의 리스트로 분리 저장하라.\n",
        "\n",
        "\n",
        "```\n",
        "str_company = \"삼성전자,LG전자,Naver,SK\"\n",
        "```\n",
        "\n",
        "실행 예시\n",
        "\n",
        "```\n",
        "print(company)\n",
        "['삼성전자', 'LG전자', 'Naver','SK']\n",
        "```\n",
        "\n"
      ]
    },
    {
      "cell_type": "code",
      "metadata": {
        "id": "1BDtKxMW8V3l"
      },
      "source": [
        "# 6번 답안 작성"
      ],
      "execution_count": null,
      "outputs": []
    },
    {
      "cell_type": "markdown",
      "metadata": {
        "id": "dUqsz2ru8dZ4"
      },
      "source": [
        "# 문제 7번  (14점)"
      ]
    },
    {
      "cell_type": "markdown",
      "metadata": {
        "id": "UBVhSUfR8fIP"
      },
      "source": [
        "반목문을 사용하여 다음과 같이 2단에서부터 9단까지의 구구단을 딕셔너리에 저장하는 코드를 구현하라\n",
        "\n",
        "딕셔너리의 key값은 숫자형 type\n",
        "딕셔너리의 value 값은 리스트 type\n",
        "\n",
        "```\n",
        "{2:[2 4 6 8 10 12 14 16 18],3:[3 6 9 12 15 18 21 24 27],4:[4 8 12 16 20 24 28 32 36],5:[5,10,15,20,25,30,35,40,45],...........}\n",
        "\n",
        "```\n",
        "\n",
        "\n"
      ]
    },
    {
      "cell_type": "code",
      "metadata": {
        "id": "FD7fJTKF-gg2"
      },
      "source": [
        "# 7번 답안 작성"
      ],
      "execution_count": null,
      "outputs": []
    },
    {
      "cell_type": "markdown",
      "metadata": {
        "id": "wurv2z1k-4c0"
      },
      "source": [
        "# 문제 8번 (10점)"
      ]
    },
    {
      "cell_type": "markdown",
      "metadata": {
        "id": "l4xXPx2J_n6Z"
      },
      "source": [
        "리스트에 아래의 데이터가 저장되 있다고 가정했을때, \n",
        "\n",
        "아래와 반복문을 이용하여 아래와 같이 출력하시오.\n",
        "\n",
        "\n",
        "\n",
        "\n",
        "```\n",
        "car_num = [ [1011, 1022], [1201, 7202], [2301, 1302] ]\n",
        "```\n",
        "\n",
        "\n",
        "\n",
        "```\n",
        "차량번호 1011 \n",
        "-----\n",
        "차량번호 1022\n",
        "-----\n",
        "차량번호 1201\n",
        "-----\n",
        "차량번호 7202\n",
        "-----\n",
        "차량번호 2301\n",
        "-----\n",
        "차량번호 1302\n",
        "-----\n",
        "```\n",
        "\n",
        "\n"
      ]
    },
    {
      "cell_type": "code",
      "metadata": {
        "id": "WHEprym7ALCi"
      },
      "source": [
        "# 8번 답안 작성"
      ],
      "execution_count": null,
      "outputs": []
    },
    {
      "cell_type": "markdown",
      "metadata": {
        "id": "pDmL-q4mAR_l"
      },
      "source": [
        "# 문제 9번 (10점)"
      ]
    },
    {
      "cell_type": "markdown",
      "metadata": {
        "id": "Wq2xtGhuAeyd"
      },
      "source": [
        "반복문을 사용하여 아래와 같은 리스트에 확장자가 xls로 끝나는 데이터가 몇개인지를 판단하는 코드를 작성하시오.\n",
        "\n",
        "\n",
        "\n",
        "```\n",
        "['2분기 보고서.xls','연말 보고서.xlsx','차년도 연구계획.xls','연구비 사용계획.xls','해외출장 보고서.hwp','2021 감사준비.xls']\n",
        "```\n",
        "\n"
      ]
    },
    {
      "cell_type": "code",
      "metadata": {
        "id": "VssDiZzaBdJ5"
      },
      "source": [
        "# 9번 답안 작성"
      ],
      "execution_count": null,
      "outputs": []
    },
    {
      "cell_type": "markdown",
      "metadata": {
        "id": "t7wGoawNB2YX"
      },
      "source": [
        "# 문제 10-1번   (8점)\n",
        "\n",
        "다음은 각 연도의 분기마다 자동차가 달린 최대 시속을 데이터로 저장해 둔 자료이다.\n",
        "다음 자료는 어떠한 type의 데이터로 저장하는 것이 가장 효율적인지를 판단하고, 이를 적절한 data type으로 저장하라<br><br> ![Cap 2021-07-03 01-43-34-024.jpg](data:image/jpeg;base64,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)\n",
        "\n"
      ]
    },
    {
      "cell_type": "code",
      "metadata": {
        "id": "JJR_Q7ZUH8Pf"
      },
      "source": [
        "# 10-1번 답안 작성"
      ],
      "execution_count": null,
      "outputs": []
    },
    {
      "cell_type": "markdown",
      "metadata": {
        "id": "o3T3qS_-IYi-"
      },
      "source": [
        "# 문제 10-2번 (7점)"
      ]
    },
    {
      "cell_type": "markdown",
      "metadata": {
        "id": "G8DkK6V2H_qb"
      },
      "source": [
        "위에서 저장한 data를 이용하여 아래와 같이 각 연도별 자동차의 평균 시속을 출력하는 코드를 작성하라. (출력 결과가 아래와 같이 나와야 함)\n",
        "\n",
        "\n",
        "\n",
        "```\n",
        "2018 87.5\n",
        "2019 111.25\n",
        "2020 135\n",
        "```\n",
        "\n"
      ]
    },
    {
      "cell_type": "code",
      "metadata": {
        "id": "LPfgIvGjIgUW"
      },
      "source": [
        "# 10-2번 답안 작성"
      ],
      "execution_count": null,
      "outputs": []
    },
    {
      "cell_type": "markdown",
      "metadata": {
        "id": "qQXDY3FxIwiQ"
      },
      "source": [
        "# 문제 11번 (10점)"
      ]
    },
    {
      "cell_type": "markdown",
      "metadata": {
        "id": "3_CPrBvrI1VT"
      },
      "source": [
        "클라우드 기반 프로그래밍 환경의 장단점을 서술하시오."
      ]
    },
    {
      "cell_type": "markdown",
      "metadata": {
        "id": "55gLdrzBI_-A"
      },
      "source": [
        "### 답안작성란\n",
        "\n",
        "\n",
        "\n",
        "\n",
        "\n"
      ]
    }
  ]
}
